{
 "cells": [
  {
   "cell_type": "code",
   "execution_count": 16,
   "id": "2eb20936-26d4-4e83-9352-f7c1fdbdfae8",
   "metadata": {},
   "outputs": [],
   "source": [
    "# Nmae: Snehal gulhane\n",
    "# Roll: 18\n",
    "# Sec: c\n",
    "# Subject: Et1\n",
    "# date: 01/08/2005"
   ]
  },
  {
   "cell_type": "code",
   "execution_count": 17,
   "id": "533ffbec-039a-4a0b-bc7b-af88f375be88",
   "metadata": {},
   "outputs": [],
   "source": [
    "age=[22,21,25,33,12,52,12,21,14,25,32,14,12]"
   ]
  },
  {
   "cell_type": "code",
   "execution_count": 18,
   "id": "7478ca99-5c0b-47ec-a5d0-21d004f376e3",
   "metadata": {},
   "outputs": [
    {
     "data": {
      "text/plain": [
       "[22, 21, 25, 33, 12, 52, 12, 21, 14, 25, 32, 14, 12]"
      ]
     },
     "execution_count": 18,
     "metadata": {},
     "output_type": "execute_result"
    }
   ],
   "source": [
    "age"
   ]
  },
  {
   "cell_type": "code",
   "execution_count": 19,
   "id": "ff769b64-9751-4d35-8ec1-201f74982905",
   "metadata": {},
   "outputs": [
    {
     "name": "stdout",
     "output_type": "stream",
     "text": [
      "[22, 21, 25, 33, 12, 52, 12, 21, 14, 25, 32, 14, 12]\n"
     ]
    }
   ],
   "source": [
    "print(age)"
   ]
  },
  {
   "cell_type": "code",
   "execution_count": 20,
   "id": "94dc9fcd-3207-4c04-9164-4a277d4d19a0",
   "metadata": {},
   "outputs": [],
   "source": [
    "import statistics as st"
   ]
  },
  {
   "cell_type": "code",
   "execution_count": 21,
   "id": "47177362-fadd-4c7f-aaf9-4f513986ad0b",
   "metadata": {},
   "outputs": [],
   "source": [
    "a=st.mean(age)"
   ]
  },
  {
   "cell_type": "code",
   "execution_count": 22,
   "id": "0d555599-a568-4a4a-b8a5-a1ea7f2b1141",
   "metadata": {},
   "outputs": [
    {
     "data": {
      "text/plain": [
       "22.692307692307693"
      ]
     },
     "execution_count": 22,
     "metadata": {},
     "output_type": "execute_result"
    }
   ],
   "source": [
    "a"
   ]
  },
  {
   "cell_type": "code",
   "execution_count": 23,
   "id": "26337e5d-abc9-42be-9a5a-129e5a33f91e",
   "metadata": {},
   "outputs": [],
   "source": [
    "b=st.median(age)"
   ]
  },
  {
   "cell_type": "code",
   "execution_count": 24,
   "id": "6fc8f88e-c2f1-444b-9e09-1df1e6de2ecf",
   "metadata": {},
   "outputs": [
    {
     "data": {
      "text/plain": [
       "21"
      ]
     },
     "execution_count": 24,
     "metadata": {},
     "output_type": "execute_result"
    }
   ],
   "source": [
    "b"
   ]
  },
  {
   "cell_type": "code",
   "execution_count": 25,
   "id": "c5ab6c22-588a-42d7-8415-28fabc83b559",
   "metadata": {},
   "outputs": [],
   "source": [
    "import numpy as np\n",
    "x=np.array([1,2,3,4,2,1,6,5,21,4,6,5,3])"
   ]
  },
  {
   "cell_type": "code",
   "execution_count": 26,
   "id": "020e49cd-5467-4bc8-9dc7-8451500e6909",
   "metadata": {},
   "outputs": [
    {
     "data": {
      "text/plain": [
       "array([ 1,  2,  3,  4,  2,  1,  6,  5, 21,  4,  6,  5,  3])"
      ]
     },
     "execution_count": 26,
     "metadata": {},
     "output_type": "execute_result"
    }
   ],
   "source": [
    "x"
   ]
  },
  {
   "cell_type": "code",
   "execution_count": 27,
   "id": "edb345e3-704d-4c35-b198-f97739266d90",
   "metadata": {},
   "outputs": [
    {
     "name": "stdout",
     "output_type": "stream",
     "text": [
      "4.846153846153846\n"
     ]
    }
   ],
   "source": [
    "print(np.mean(x))"
   ]
  },
  {
   "cell_type": "code",
   "execution_count": 28,
   "id": "885ed0d8-442f-4603-b517-3979b66bdf9c",
   "metadata": {},
   "outputs": [
    {
     "name": "stdout",
     "output_type": "stream",
     "text": [
      "4.0\n"
     ]
    }
   ],
   "source": [
    "print(np.median(x))"
   ]
  },
  {
   "cell_type": "code",
   "execution_count": 29,
   "id": "7801e06b-13af-448f-ad54-a722ad63446c",
   "metadata": {},
   "outputs": [
    {
     "data": {
      "text/plain": [
       "array([ 1,  2,  3,  4,  2,  1,  6,  5, 21,  4,  6,  5,  3])"
      ]
     },
     "execution_count": 29,
     "metadata": {},
     "output_type": "execute_result"
    }
   ],
   "source": [
    "x"
   ]
  },
  {
   "cell_type": "code",
   "execution_count": 30,
   "id": "7849e769-3112-4532-b70a-c86ea7a5feac",
   "metadata": {},
   "outputs": [],
   "source": [
    "from scipy import stats"
   ]
  },
  {
   "cell_type": "code",
   "execution_count": 31,
   "id": "5c1ab10f-32b5-44f4-94a7-157503b1fb48",
   "metadata": {},
   "outputs": [
    {
     "name": "stdout",
     "output_type": "stream",
     "text": [
      "ModeResult(mode=np.int64(1), count=np.int64(2))\n"
     ]
    }
   ],
   "source": [
    "print(stats.mode(x))"
   ]
  },
  {
   "cell_type": "code",
   "execution_count": 32,
   "id": "550a7d07-8497-461a-9fde-41846fc1e20a",
   "metadata": {},
   "outputs": [
    {
     "name": "stdout",
     "output_type": "stream",
     "text": [
      "4.9434673886337315\n"
     ]
    }
   ],
   "source": [
    "print(np.std(x))"
   ]
  },
  {
   "cell_type": "code",
   "execution_count": 33,
   "id": "0bf97fa4-eaf8-405b-a525-58aa6193cae9",
   "metadata": {},
   "outputs": [
    {
     "name": "stdout",
     "output_type": "stream",
     "text": [
      "24.4378698224852\n"
     ]
    }
   ],
   "source": [
    "print(np.var(x))"
   ]
  },
  {
   "cell_type": "code",
   "execution_count": null,
   "id": "7c29ffae-d3fb-4831-b932-728745a07dae",
   "metadata": {},
   "outputs": [],
   "source": []
  },
  {
   "cell_type": "code",
   "execution_count": null,
   "id": "ea905dba-4b1b-4465-84ff-a9c9f9eace1d",
   "metadata": {},
   "outputs": [],
   "source": []
  },
  {
   "cell_type": "code",
   "execution_count": null,
   "id": "165d97c7-bcf5-46f9-b69f-9c74383f88be",
   "metadata": {},
   "outputs": [],
   "source": []
  }
 ],
 "metadata": {
  "kernelspec": {
   "display_name": "Python [conda env:base] *",
   "language": "python",
   "name": "conda-base-py"
  },
  "language_info": {
   "codemirror_mode": {
    "name": "ipython",
    "version": 3
   },
   "file_extension": ".py",
   "mimetype": "text/x-python",
   "name": "python",
   "nbconvert_exporter": "python",
   "pygments_lexer": "ipython3",
   "version": "3.13.5"
  }
 },
 "nbformat": 4,
 "nbformat_minor": 5
}
